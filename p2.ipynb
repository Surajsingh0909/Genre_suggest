{
 "cells": [
  {
   "cell_type": "code",
   "execution_count": 2,
   "id": "2dd41e3a",
   "metadata": {},
   "outputs": [
    {
     "data": {
      "text/plain": [
       "['music.csv-recommender.joblib']"
      ]
     },
     "execution_count": 2,
     "metadata": {},
     "output_type": "execute_result"
    }
   ],
   "source": [
    "import pandas as pd\n",
    "from sklearn.tree import DecisionTreeClassifier\n",
    "import joblib\n",
    "\n",
    "md = pd.read_csv('music.csv')\n",
    "X = md.drop(columns=['genre'])\n",
    "y = md['genre']\n",
    "\n",
    "model = DecisionTreeClassifier()\n",
    "model.fit(X ,y)\n",
    "\n",
    "joblib.dump(model,'music.csv-recommender.joblib')"
   ]
  },
  {
   "cell_type": "code",
   "execution_count": null,
   "id": "0900424a",
   "metadata": {},
   "outputs": [],
   "source": []
  }
 ],
 "metadata": {
  "kernelspec": {
   "display_name": "Python 3 (ipykernel)",
   "language": "python",
   "name": "python3"
  },
  "language_info": {
   "codemirror_mode": {
    "name": "ipython",
    "version": 3
   },
   "file_extension": ".py",
   "mimetype": "text/x-python",
   "name": "python",
   "nbconvert_exporter": "python",
   "pygments_lexer": "ipython3",
   "version": "3.11.3"
  }
 },
 "nbformat": 4,
 "nbformat_minor": 5
}
